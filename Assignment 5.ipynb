{
 "cells": [
  {
   "cell_type": "markdown",
   "id": "918a9bc0",
   "metadata": {},
   "source": [
    "# <u>Assignment 5</u>:\n",
    "\n",
    "## WEEK 5: House Price Prediction Model\n",
    "\n",
    "### Bengaluru House Price Dataset\n"
   ]
  },
  {
   "cell_type": "code",
   "execution_count": null,
   "id": "3633851c",
   "metadata": {
    "scrolled": true
   },
   "outputs": [],
   "source": [
    "import numpy as np\n",
    "import pandas as pd\n",
    "import matplotlib.pyplot as plt\n",
    "import seaborn as sns\n",
    "import sklearn "
   ]
  },
  {
   "cell_type": "code",
   "execution_count": 2,
   "id": "56919951",
   "metadata": {
    "scrolled": true
   },
   "outputs": [],
   "source": [
    "house=pd.read_csv(\"Bengaluru_House_Data.csv\")"
   ]
  },
  {
   "cell_type": "code",
   "execution_count": 3,
   "id": "a64a4767",
   "metadata": {
    "scrolled": true
   },
   "outputs": [
    {
     "data": {
      "text/plain": [
       "(13320, 9)"
      ]
     },
     "execution_count": 3,
     "metadata": {},
     "output_type": "execute_result"
    }
   ],
   "source": [
    "house.shape"
   ]
  },
  {
   "cell_type": "code",
   "execution_count": 4,
   "id": "b313a143",
   "metadata": {
    "scrolled": true
   },
   "outputs": [
    {
     "data": {
      "text/html": [
       "<div>\n",
       "<style scoped>\n",
       "    .dataframe tbody tr th:only-of-type {\n",
       "        vertical-align: middle;\n",
       "    }\n",
       "\n",
       "    .dataframe tbody tr th {\n",
       "        vertical-align: top;\n",
       "    }\n",
       "\n",
       "    .dataframe thead th {\n",
       "        text-align: right;\n",
       "    }\n",
       "</style>\n",
       "<table border=\"1\" class=\"dataframe\">\n",
       "  <thead>\n",
       "    <tr style=\"text-align: right;\">\n",
       "      <th></th>\n",
       "      <th>area_type</th>\n",
       "      <th>availability</th>\n",
       "      <th>location</th>\n",
       "      <th>size</th>\n",
       "      <th>society</th>\n",
       "      <th>total_sqft</th>\n",
       "      <th>bath</th>\n",
       "      <th>balcony</th>\n",
       "      <th>price</th>\n",
       "    </tr>\n",
       "  </thead>\n",
       "  <tbody>\n",
       "    <tr>\n",
       "      <th>0</th>\n",
       "      <td>Super built-up  Area</td>\n",
       "      <td>19-Dec</td>\n",
       "      <td>Electronic City Phase II</td>\n",
       "      <td>2 BHK</td>\n",
       "      <td>Coomee</td>\n",
       "      <td>1056</td>\n",
       "      <td>2.0</td>\n",
       "      <td>1.0</td>\n",
       "      <td>39.07</td>\n",
       "    </tr>\n",
       "    <tr>\n",
       "      <th>1</th>\n",
       "      <td>Plot  Area</td>\n",
       "      <td>Ready To Move</td>\n",
       "      <td>Chikka Tirupathi</td>\n",
       "      <td>4 Bedroom</td>\n",
       "      <td>Theanmp</td>\n",
       "      <td>2600</td>\n",
       "      <td>5.0</td>\n",
       "      <td>3.0</td>\n",
       "      <td>120.00</td>\n",
       "    </tr>\n",
       "    <tr>\n",
       "      <th>2</th>\n",
       "      <td>Built-up  Area</td>\n",
       "      <td>Ready To Move</td>\n",
       "      <td>Uttarahalli</td>\n",
       "      <td>3 BHK</td>\n",
       "      <td>NaN</td>\n",
       "      <td>1440</td>\n",
       "      <td>2.0</td>\n",
       "      <td>3.0</td>\n",
       "      <td>62.00</td>\n",
       "    </tr>\n",
       "    <tr>\n",
       "      <th>3</th>\n",
       "      <td>Super built-up  Area</td>\n",
       "      <td>Ready To Move</td>\n",
       "      <td>Lingadheeranahalli</td>\n",
       "      <td>3 BHK</td>\n",
       "      <td>Soiewre</td>\n",
       "      <td>1521</td>\n",
       "      <td>3.0</td>\n",
       "      <td>1.0</td>\n",
       "      <td>95.00</td>\n",
       "    </tr>\n",
       "    <tr>\n",
       "      <th>4</th>\n",
       "      <td>Super built-up  Area</td>\n",
       "      <td>Ready To Move</td>\n",
       "      <td>Kothanur</td>\n",
       "      <td>2 BHK</td>\n",
       "      <td>NaN</td>\n",
       "      <td>1200</td>\n",
       "      <td>2.0</td>\n",
       "      <td>1.0</td>\n",
       "      <td>51.00</td>\n",
       "    </tr>\n",
       "    <tr>\n",
       "      <th>5</th>\n",
       "      <td>Super built-up  Area</td>\n",
       "      <td>Ready To Move</td>\n",
       "      <td>Whitefield</td>\n",
       "      <td>2 BHK</td>\n",
       "      <td>DuenaTa</td>\n",
       "      <td>1170</td>\n",
       "      <td>2.0</td>\n",
       "      <td>1.0</td>\n",
       "      <td>38.00</td>\n",
       "    </tr>\n",
       "    <tr>\n",
       "      <th>6</th>\n",
       "      <td>Super built-up  Area</td>\n",
       "      <td>18-May</td>\n",
       "      <td>Old Airport Road</td>\n",
       "      <td>4 BHK</td>\n",
       "      <td>Jaades</td>\n",
       "      <td>2732</td>\n",
       "      <td>4.0</td>\n",
       "      <td>NaN</td>\n",
       "      <td>204.00</td>\n",
       "    </tr>\n",
       "    <tr>\n",
       "      <th>7</th>\n",
       "      <td>Super built-up  Area</td>\n",
       "      <td>Ready To Move</td>\n",
       "      <td>Rajaji Nagar</td>\n",
       "      <td>4 BHK</td>\n",
       "      <td>Brway G</td>\n",
       "      <td>3300</td>\n",
       "      <td>4.0</td>\n",
       "      <td>NaN</td>\n",
       "      <td>600.00</td>\n",
       "    </tr>\n",
       "    <tr>\n",
       "      <th>8</th>\n",
       "      <td>Super built-up  Area</td>\n",
       "      <td>Ready To Move</td>\n",
       "      <td>Marathahalli</td>\n",
       "      <td>3 BHK</td>\n",
       "      <td>NaN</td>\n",
       "      <td>1310</td>\n",
       "      <td>3.0</td>\n",
       "      <td>1.0</td>\n",
       "      <td>63.25</td>\n",
       "    </tr>\n",
       "    <tr>\n",
       "      <th>9</th>\n",
       "      <td>Plot  Area</td>\n",
       "      <td>Ready To Move</td>\n",
       "      <td>Gandhi Bazar</td>\n",
       "      <td>6 Bedroom</td>\n",
       "      <td>NaN</td>\n",
       "      <td>1020</td>\n",
       "      <td>6.0</td>\n",
       "      <td>NaN</td>\n",
       "      <td>370.00</td>\n",
       "    </tr>\n",
       "  </tbody>\n",
       "</table>\n",
       "</div>"
      ],
      "text/plain": [
       "              area_type   availability                  location       size  \\\n",
       "0  Super built-up  Area         19-Dec  Electronic City Phase II      2 BHK   \n",
       "1            Plot  Area  Ready To Move          Chikka Tirupathi  4 Bedroom   \n",
       "2        Built-up  Area  Ready To Move               Uttarahalli      3 BHK   \n",
       "3  Super built-up  Area  Ready To Move        Lingadheeranahalli      3 BHK   \n",
       "4  Super built-up  Area  Ready To Move                  Kothanur      2 BHK   \n",
       "5  Super built-up  Area  Ready To Move                Whitefield      2 BHK   \n",
       "6  Super built-up  Area         18-May          Old Airport Road      4 BHK   \n",
       "7  Super built-up  Area  Ready To Move              Rajaji Nagar      4 BHK   \n",
       "8  Super built-up  Area  Ready To Move              Marathahalli      3 BHK   \n",
       "9            Plot  Area  Ready To Move              Gandhi Bazar  6 Bedroom   \n",
       "\n",
       "   society total_sqft  bath  balcony   price  \n",
       "0  Coomee        1056   2.0      1.0   39.07  \n",
       "1  Theanmp       2600   5.0      3.0  120.00  \n",
       "2      NaN       1440   2.0      3.0   62.00  \n",
       "3  Soiewre       1521   3.0      1.0   95.00  \n",
       "4      NaN       1200   2.0      1.0   51.00  \n",
       "5  DuenaTa       1170   2.0      1.0   38.00  \n",
       "6  Jaades        2732   4.0      NaN  204.00  \n",
       "7  Brway G       3300   4.0      NaN  600.00  \n",
       "8      NaN       1310   3.0      1.0   63.25  \n",
       "9      NaN       1020   6.0      NaN  370.00  "
      ]
     },
     "execution_count": 4,
     "metadata": {},
     "output_type": "execute_result"
    }
   ],
   "source": [
    "house.head(10)"
   ]
  },
  {
   "cell_type": "code",
   "execution_count": 5,
   "id": "2cf73d7c",
   "metadata": {
    "scrolled": true
   },
   "outputs": [
    {
     "name": "stdout",
     "output_type": "stream",
     "text": [
      "<class 'pandas.core.frame.DataFrame'>\n",
      "RangeIndex: 13320 entries, 0 to 13319\n",
      "Data columns (total 9 columns):\n",
      " #   Column        Non-Null Count  Dtype  \n",
      "---  ------        --------------  -----  \n",
      " 0   area_type     13320 non-null  object \n",
      " 1   availability  13320 non-null  object \n",
      " 2   location      13319 non-null  object \n",
      " 3   size          13304 non-null  object \n",
      " 4   society       7818 non-null   object \n",
      " 5   total_sqft    13320 non-null  object \n",
      " 6   bath          13247 non-null  float64\n",
      " 7   balcony       12711 non-null  float64\n",
      " 8   price         13320 non-null  float64\n",
      "dtypes: float64(3), object(6)\n",
      "memory usage: 936.7+ KB\n"
     ]
    }
   ],
   "source": [
    "house.info()"
   ]
  },
  {
   "cell_type": "code",
   "execution_count": 6,
   "id": "36e373ea",
   "metadata": {
    "scrolled": true
   },
   "outputs": [
    {
     "data": {
      "text/html": [
       "<div>\n",
       "<style scoped>\n",
       "    .dataframe tbody tr th:only-of-type {\n",
       "        vertical-align: middle;\n",
       "    }\n",
       "\n",
       "    .dataframe tbody tr th {\n",
       "        vertical-align: top;\n",
       "    }\n",
       "\n",
       "    .dataframe thead th {\n",
       "        text-align: right;\n",
       "    }\n",
       "</style>\n",
       "<table border=\"1\" class=\"dataframe\">\n",
       "  <thead>\n",
       "    <tr style=\"text-align: right;\">\n",
       "      <th></th>\n",
       "      <th>bath</th>\n",
       "      <th>balcony</th>\n",
       "      <th>price</th>\n",
       "    </tr>\n",
       "  </thead>\n",
       "  <tbody>\n",
       "    <tr>\n",
       "      <th>count</th>\n",
       "      <td>13247.000000</td>\n",
       "      <td>12711.000000</td>\n",
       "      <td>13320.000000</td>\n",
       "    </tr>\n",
       "    <tr>\n",
       "      <th>mean</th>\n",
       "      <td>2.692610</td>\n",
       "      <td>1.584376</td>\n",
       "      <td>112.565627</td>\n",
       "    </tr>\n",
       "    <tr>\n",
       "      <th>std</th>\n",
       "      <td>1.341458</td>\n",
       "      <td>0.817263</td>\n",
       "      <td>148.971674</td>\n",
       "    </tr>\n",
       "    <tr>\n",
       "      <th>min</th>\n",
       "      <td>1.000000</td>\n",
       "      <td>0.000000</td>\n",
       "      <td>8.000000</td>\n",
       "    </tr>\n",
       "    <tr>\n",
       "      <th>25%</th>\n",
       "      <td>2.000000</td>\n",
       "      <td>1.000000</td>\n",
       "      <td>50.000000</td>\n",
       "    </tr>\n",
       "    <tr>\n",
       "      <th>50%</th>\n",
       "      <td>2.000000</td>\n",
       "      <td>2.000000</td>\n",
       "      <td>72.000000</td>\n",
       "    </tr>\n",
       "    <tr>\n",
       "      <th>75%</th>\n",
       "      <td>3.000000</td>\n",
       "      <td>2.000000</td>\n",
       "      <td>120.000000</td>\n",
       "    </tr>\n",
       "    <tr>\n",
       "      <th>max</th>\n",
       "      <td>40.000000</td>\n",
       "      <td>3.000000</td>\n",
       "      <td>3600.000000</td>\n",
       "    </tr>\n",
       "  </tbody>\n",
       "</table>\n",
       "</div>"
      ],
      "text/plain": [
       "               bath       balcony         price\n",
       "count  13247.000000  12711.000000  13320.000000\n",
       "mean       2.692610      1.584376    112.565627\n",
       "std        1.341458      0.817263    148.971674\n",
       "min        1.000000      0.000000      8.000000\n",
       "25%        2.000000      1.000000     50.000000\n",
       "50%        2.000000      2.000000     72.000000\n",
       "75%        3.000000      2.000000    120.000000\n",
       "max       40.000000      3.000000   3600.000000"
      ]
     },
     "execution_count": 6,
     "metadata": {},
     "output_type": "execute_result"
    }
   ],
   "source": [
    "house.describe()"
   ]
  },
  {
   "cell_type": "markdown",
   "id": "8b9119c8",
   "metadata": {},
   "source": [
    "---\n",
    "#### Column types found:\n",
    "- `Numerical:` bath, balcony, price(target)\n",
    "- `Categorical:` size, availability, area_type\n",
    "- `Mixed:` location, society\n",
    "---"
   ]
  },
  {
   "cell_type": "code",
   "execution_count": 7,
   "id": "22fbfbdc",
   "metadata": {
    "scrolled": true
   },
   "outputs": [
    {
     "data": {
      "text/plain": [
       "area_type          0\n",
       "availability       0\n",
       "location           1\n",
       "size              16\n",
       "society         5502\n",
       "total_sqft         0\n",
       "bath              73\n",
       "balcony          609\n",
       "price              0\n",
       "dtype: int64"
      ]
     },
     "execution_count": 7,
     "metadata": {},
     "output_type": "execute_result"
    }
   ],
   "source": [
    "house.isnull().sum()"
   ]
  },
  {
   "cell_type": "markdown",
   "id": "4367b195",
   "metadata": {},
   "source": [
    "---\n",
    "## Univariate Analysis & Data Cleaning\n",
    "\n",
    "Now we’ll explore each column individually to understand:\n",
    "- The distribution \n",
    "- Summary statistics of numerical features\n",
    "- Missing value treatment\n",
    "\n",
    "### Plan for Cleaning:\n",
    "- Convert `size` (e.g., \"2 BHK\", \"4 Bedroom\") to a new column `bhk` as numeric.\n",
    "- Handle missing values:\n",
    "  - Drop rows with null in crucial fields (`bath`, `total_sqft`, `price`, `bhk`)\n",
    "  - Decide what to do with less important columns (`society`, `balcony`) later\n",
    " ---"
   ]
  },
  {
   "cell_type": "code",
   "execution_count": 8,
   "id": "998c4323",
   "metadata": {
    "scrolled": true
   },
   "outputs": [],
   "source": [
    "house['bhk']=house['size'].str.extract(r'(\\d+)').astype(float)"
   ]
  },
  {
   "cell_type": "code",
   "execution_count": 9,
   "id": "086fc209",
   "metadata": {
    "scrolled": true
   },
   "outputs": [
    {
     "data": {
      "text/plain": [
       "0        2.0\n",
       "1        4.0\n",
       "2        3.0\n",
       "3        3.0\n",
       "4        2.0\n",
       "        ... \n",
       "13315    5.0\n",
       "13316    4.0\n",
       "13317    2.0\n",
       "13318    4.0\n",
       "13319    1.0\n",
       "Name: bhk, Length: 13320, dtype: float64"
      ]
     },
     "execution_count": 9,
     "metadata": {},
     "output_type": "execute_result"
    }
   ],
   "source": [
    "house['bhk']"
   ]
  },
  {
   "cell_type": "code",
   "execution_count": 10,
   "id": "da72dbc3",
   "metadata": {
    "scrolled": true
   },
   "outputs": [],
   "source": [
    "house=house.dropna(subset=['location','size','bath'])"
   ]
  },
  {
   "cell_type": "code",
   "execution_count": 11,
   "id": "2a4ff61c",
   "metadata": {
    "scrolled": true
   },
   "outputs": [],
   "source": [
    "house['balcony']=house['balcony'].fillna(house['balcony'].median())"
   ]
  },
  {
   "cell_type": "code",
   "execution_count": 12,
   "id": "7f0f4338",
   "metadata": {
    "scrolled": true
   },
   "outputs": [
    {
     "data": {
      "text/plain": [
       "area_type          0\n",
       "availability       0\n",
       "location           0\n",
       "size               0\n",
       "society         5499\n",
       "total_sqft         0\n",
       "bath               0\n",
       "balcony            0\n",
       "price              0\n",
       "bhk                0\n",
       "dtype: int64"
      ]
     },
     "execution_count": 12,
     "metadata": {},
     "output_type": "execute_result"
    }
   ],
   "source": [
    "house.isnull().sum()"
   ]
  },
  {
   "cell_type": "code",
   "execution_count": 13,
   "id": "66879786",
   "metadata": {
    "scrolled": true
   },
   "outputs": [
    {
     "data": {
      "text/html": [
       "<div>\n",
       "<style scoped>\n",
       "    .dataframe tbody tr th:only-of-type {\n",
       "        vertical-align: middle;\n",
       "    }\n",
       "\n",
       "    .dataframe tbody tr th {\n",
       "        vertical-align: top;\n",
       "    }\n",
       "\n",
       "    .dataframe thead th {\n",
       "        text-align: right;\n",
       "    }\n",
       "</style>\n",
       "<table border=\"1\" class=\"dataframe\">\n",
       "  <thead>\n",
       "    <tr style=\"text-align: right;\">\n",
       "      <th></th>\n",
       "      <th>bath</th>\n",
       "      <th>balcony</th>\n",
       "      <th>price</th>\n",
       "      <th>bhk</th>\n",
       "    </tr>\n",
       "  </thead>\n",
       "  <tbody>\n",
       "    <tr>\n",
       "      <th>count</th>\n",
       "      <td>13246.000000</td>\n",
       "      <td>13246.000000</td>\n",
       "      <td>13246.000000</td>\n",
       "      <td>13246.000000</td>\n",
       "    </tr>\n",
       "    <tr>\n",
       "      <th>mean</th>\n",
       "      <td>2.692586</td>\n",
       "      <td>1.601163</td>\n",
       "      <td>112.389392</td>\n",
       "      <td>2.801902</td>\n",
       "    </tr>\n",
       "    <tr>\n",
       "      <th>std</th>\n",
       "      <td>1.341506</td>\n",
       "      <td>0.804759</td>\n",
       "      <td>149.076587</td>\n",
       "      <td>1.295758</td>\n",
       "    </tr>\n",
       "    <tr>\n",
       "      <th>min</th>\n",
       "      <td>1.000000</td>\n",
       "      <td>0.000000</td>\n",
       "      <td>8.000000</td>\n",
       "      <td>1.000000</td>\n",
       "    </tr>\n",
       "    <tr>\n",
       "      <th>25%</th>\n",
       "      <td>2.000000</td>\n",
       "      <td>1.000000</td>\n",
       "      <td>50.000000</td>\n",
       "      <td>2.000000</td>\n",
       "    </tr>\n",
       "    <tr>\n",
       "      <th>50%</th>\n",
       "      <td>2.000000</td>\n",
       "      <td>2.000000</td>\n",
       "      <td>72.000000</td>\n",
       "      <td>3.000000</td>\n",
       "    </tr>\n",
       "    <tr>\n",
       "      <th>75%</th>\n",
       "      <td>3.000000</td>\n",
       "      <td>2.000000</td>\n",
       "      <td>120.000000</td>\n",
       "      <td>3.000000</td>\n",
       "    </tr>\n",
       "    <tr>\n",
       "      <th>max</th>\n",
       "      <td>40.000000</td>\n",
       "      <td>3.000000</td>\n",
       "      <td>3600.000000</td>\n",
       "      <td>43.000000</td>\n",
       "    </tr>\n",
       "  </tbody>\n",
       "</table>\n",
       "</div>"
      ],
      "text/plain": [
       "               bath       balcony         price           bhk\n",
       "count  13246.000000  13246.000000  13246.000000  13246.000000\n",
       "mean       2.692586      1.601163    112.389392      2.801902\n",
       "std        1.341506      0.804759    149.076587      1.295758\n",
       "min        1.000000      0.000000      8.000000      1.000000\n",
       "25%        2.000000      1.000000     50.000000      2.000000\n",
       "50%        2.000000      2.000000     72.000000      3.000000\n",
       "75%        3.000000      2.000000    120.000000      3.000000\n",
       "max       40.000000      3.000000   3600.000000     43.000000"
      ]
     },
     "execution_count": 13,
     "metadata": {},
     "output_type": "execute_result"
    }
   ],
   "source": [
    "house.describe()"
   ]
  },
  {
   "cell_type": "code",
   "execution_count": 14,
   "id": "8780f6b7",
   "metadata": {
    "scrolled": false
   },
   "outputs": [
    {
     "data": {
      "text/plain": [
       "Text(0.5, 1.0, 'Price Distribution')"
      ]
     },
     "execution_count": 14,
     "metadata": {},
     "output_type": "execute_result"
    },
    {
     "data": {
      "image/png": "[encoded data removed]",
      "text/plain": [
       "<Figure size 640x480 with 1 Axes>"
      ]
     },
     "metadata": {},
     "output_type": "display_data"
    }
   ],
   "source": [
    "sns.histplot(house['price'], kde=True, bins=30)\n",
    "plt.xlabel('Price in lakhs')\n",
    "plt.title('Price Distribution')"
   ]
  },
  {
   "cell_type": "code",
   "execution_count": 15,
   "id": "94fb7788",
   "metadata": {
    "scrolled": false
   },
   "outputs": [
    {
     "data": {
      "text/plain": [
       "Text(0.5, 1.0, 'Total Sqft Distribution')"
      ]
     },
     "execution_count": 15,
     "metadata": {},
     "output_type": "execute_result"
    },
    {
     "data": {
      "image/png": "[encoded data removed]",
      "text/plain": [
       "<Figure size 640x480 with 1 Axes>"
      ]
     },
     "metadata": {},
     "output_type": "display_data"
    }
   ],
   "source": [
    "sns.histplot(house['total_sqft'], kde=True, bins=10)\n",
    "plt.title('Total Sqft Distribution')"
   ]
  },
  {
   "cell_type": "markdown",
   "id": "97436247",
   "metadata": {},
   "source": [
    "## Fixing total_sqft for Better Distribution Analysis\n",
    "\n",
    "Some values in `total_sqft` column are not single numbers, e.g.:\n",
    "\n",
    "- Ranges: `'2100 - 2850'`\n",
    "- Units: `'34.46Sq. Meter'`\n",
    "\n",
    "We’ll:\n",
    "1. Convert ranges like `'2100 - 2850'` to their average\n",
    "2. Remove non-numeric entries or try converting to sqft\n",
    "3. Plot again after filtering out extreme outliers\n",
    "\n",
    "We'll also create a cleaned numeric version: `total_sqft_cleaned`"
   ]
  },
  {
   "cell_type": "code",
   "execution_count": 16,
   "id": "867f304b",
   "metadata": {
    "scrolled": true
   },
   "outputs": [],
   "source": [
    "def clean_total_sqft(val):\n",
    "    if isinstance(val, str):\n",
    "        if '-' in val:\n",
    "            parts = val.split('-')\n",
    "            if len(parts) == 2 and parts[0].strip().isdigit() and parts[1].strip().isdigit():\n",
    "                return (float(parts[0]) + float(parts[1])) / 2\n",
    "        if val.replace('.', '', 1).isdigit():  # if it's a float-like string\n",
    "            return float(val)\n",
    "    elif isinstance(val, (int, float)):\n",
    "        return val\n",
    "    return None\n",
    "\n",
    "house['total_sqft_cleaned'] = house['total_sqft'].apply(clean_total_sqft)"
   ]
  },
  {
   "cell_type": "code",
   "execution_count": 17,
   "id": "9fc15db7",
   "metadata": {
    "scrolled": true
   },
   "outputs": [],
   "source": [
    "house = house[house['total_sqft_cleaned'].notnull()]\n",
    "house['total_sqft_cleaned'] = house['total_sqft_cleaned'].astype(float)"
   ]
  },
  {
   "cell_type": "code",
   "execution_count": 18,
   "id": "7e1d64db",
   "metadata": {
    "scrolled": true
   },
   "outputs": [
    {
     "data": {
      "text/plain": [
       "8358     1205\n",
       "878      1360\n",
       "7350      750\n",
       "2553     1238\n",
       "6129     1987\n",
       "706      2264\n",
       "11724    1170\n",
       "58       1407\n",
       "2072     1100\n",
       "9642      605\n",
       "Name: total_sqft, dtype: object"
      ]
     },
     "execution_count": 18,
     "metadata": {},
     "output_type": "execute_result"
    }
   ],
   "source": [
    "house['total_sqft'].sample(10)"
   ]
  },
  {
   "cell_type": "code",
   "execution_count": 19,
   "id": "efdccd38",
   "metadata": {
    "scrolled": false
   },
   "outputs": [
    {
     "data": {
      "image/png": "[encoded data removed]",
      "text/plain": [
       "<Figure size 640x480 with 1 Axes>"
      ]
     },
     "metadata": {},
     "output_type": "display_data"
    }
   ],
   "source": [
    "sns.histplot(house[house['total_sqft_cleaned'] < 5000]['total_sqft_cleaned'], bins=50, kde=True)\n",
    "plt.show()"
   ]
  },
  {
   "cell_type": "code",
   "execution_count": 20,
   "id": "e8534803",
   "metadata": {
    "scrolled": false
   },
   "outputs": [
    {
     "data": {
      "text/plain": [
       "Text(0.5, 1.0, 'BHK Count Distribution')"
      ]
     },
     "execution_count": 20,
     "metadata": {},
     "output_type": "execute_result"
    },
    {
     "data": {
      "image/png": "[encoded data removed]",
      "text/plain": [
       "<Figure size 640x480 with 1 Axes>"
      ]
     },
     "metadata": {},
     "output_type": "display_data"
    }
   ],
   "source": [
    "sns.countplot(y='bhk', data=house)\n",
    "plt.title('BHK Count Distribution')"
   ]
  },
  {
   "cell_type": "markdown",
   "id": "5c611111",
   "metadata": {},
   "source": [
    "## Bivariate & Multivariate Analysis"
   ]
  },
  {
   "cell_type": "code",
   "execution_count": 21,
   "id": "0105ef10",
   "metadata": {
    "scrolled": false
   },
   "outputs": [
    {
     "data": {
      "text/plain": [
       "Text(0.5, 1.0, 'Total Sqft vs Price')"
      ]
     },
     "execution_count": 21,
     "metadata": {},
     "output_type": "execute_result"
    },
    {
     "data": {
      "image/png": "[encoded data removed]",
      "text/plain": [
       "<Figure size 640x480 with 1 Axes>"
      ]
     },
     "metadata": {},
     "output_type": "display_data"
    }
   ],
   "source": [
    "sns.scatterplot(x='total_sqft_cleaned', y='price', data=house)\n",
    "plt.title('Total Sqft vs Price')"
   ]
  },
  {
   "cell_type": "markdown",
   "id": "361345ca",
   "metadata": {},
   "source": [
    "---\n",
    "## Feature Engineering & Correlation Analysis\n",
    "\n",
    "We now aim to:\n",
    "1. Identify which columns most influence the `price`\n",
    "2. Remove weak or irrelevant features\n",
    "3. Engineer useful new features (like `price_per_sqft`)\n",
    "4. Prepare for model training with only the most useful columns\n",
    "\n",
    "We'll use:\n",
    "- Correlation heatmaps\n",
    "- Common-sense feature creation (e.g., price per sqft)\n",
    "- Logical reasoning to drop non-informative features\n",
    "---"
   ]
  },
  {
   "cell_type": "code",
   "execution_count": 22,
   "id": "0e0a211c",
   "metadata": {
    "scrolled": true
   },
   "outputs": [
    {
     "data": {
      "text/plain": [
       "0    3699.810606\n",
       "1    4615.384615\n",
       "2    4305.555556\n",
       "3    6245.890861\n",
       "4    4250.000000\n",
       "Name: price_per_sqft, dtype: float64"
      ]
     },
     "execution_count": 22,
     "metadata": {},
     "output_type": "execute_result"
    }
   ],
   "source": [
    "house['price_per_sqft'] = house['price'] * 100000 / house['total_sqft_cleaned']\n",
    "house['price_per_sqft'].head()"
   ]
  },
  {
   "cell_type": "code",
   "execution_count": 23,
   "id": "99bdafdb",
   "metadata": {
    "scrolled": false
   },
   "outputs": [
    {
     "data": {
      "image/png": "[encoded data removed]",
      "text/plain": [
       "<Figure size 800x600 with 2 Axes>"
      ]
     },
     "metadata": {},
     "output_type": "display_data"
    }
   ],
   "source": [
    "numeric_cols = ['price', 'total_sqft_cleaned', 'bath', 'balcony', 'bhk', 'price_per_sqft']\n",
    "correlation_matrix = house[numeric_cols].corr()\n",
    "\n",
    "# Plot heatmap\n",
    "plt.figure(figsize=(8,6))\n",
    "sns.heatmap(correlation_matrix, annot=True, cmap='coolwarm')\n",
    "plt.title('Correlation Heatmap')\n",
    "plt.show()"
   ]
  },
  {
   "cell_type": "code",
   "execution_count": 24,
   "id": "b62b06d3",
   "metadata": {
    "scrolled": true
   },
   "outputs": [
    {
     "data": {
      "text/plain": [
       "location\n",
       "Cubbon Road            1900.000000\n",
       "Ashok Nagar            1486.000000\n",
       "Defence Colony         1167.714286\n",
       "Yemlur                 1093.388889\n",
       "Church Street          1068.000000\n",
       "D Souza Layout         1015.000000\n",
       "Sadashiva Nagar        1011.100000\n",
       "Sindhi Colony           988.000000\n",
       "Srinivas Colony         922.000000\n",
       "5th Block Jayanagar     905.000000\n",
       "Name: price, dtype: float64"
      ]
     },
     "execution_count": 24,
     "metadata": {},
     "output_type": "execute_result"
    }
   ],
   "source": [
    "house.groupby('location')['price'].mean().sort_values(ascending=False).head(10)"
   ]
  },
  {
   "cell_type": "code",
   "execution_count": 31,
   "id": "54bd83a7",
   "metadata": {
    "scrolled": true
   },
   "outputs": [
    {
     "data": {
      "text/plain": [
       "1298"
      ]
     },
     "execution_count": 31,
     "metadata": {},
     "output_type": "execute_result"
    }
   ],
   "source": [
    "house['location'].nunique()"
   ]
  },
  {
   "cell_type": "code",
   "execution_count": 36,
   "id": "3f55960e",
   "metadata": {
    "scrolled": true
   },
   "outputs": [
    {
     "name": "stdout",
     "output_type": "stream",
     "text": [
      "location\n",
      "Whitefield                   532\n",
      "Sarjapur  Road               392\n",
      "Electronic City              302\n",
      "Kanakpura Road               264\n",
      "Thanisandra                  232\n",
      "                            ... \n",
      "Indiranagar HAL 2nd Stage      1\n",
      "Maruthi HBCS Layout            1\n",
      "K R C kothanur                 1\n",
      "1Channasandra                  1\n",
      "Abshot Layout                  1\n",
      "Name: count, Length: 1298, dtype: int64\n"
     ]
    }
   ],
   "source": [
    "location_counts = house['location'].value_counts()\n",
    "print(location_counts)"
   ]
  },
  {
   "cell_type": "markdown",
   "id": "e2f93a86",
   "metadata": {},
   "source": [
    "### Reduce Locations by Frequency\n",
    "Keep only the top 10 or 20 most frequent locations, and label the rest as `\"other\"`."
   ]
  },
  {
   "cell_type": "code",
   "execution_count": 48,
   "id": "3ae6ccfd",
   "metadata": {
    "scrolled": true
   },
   "outputs": [],
   "source": [
    "location_threshold = 50\n",
    "house['location_reduced'] = house['location'].apply(\n",
    "    lambda x: x if location_counts[x] >= location_threshold else 'other'\n",
    ")"
   ]
  },
  {
   "cell_type": "markdown",
   "id": "abaf2bd9",
   "metadata": {},
   "source": [
    "## Trade-off Rule:\n",
    "Rare locations (with < 50 records) don’t have enough data for the model to learn from — even if they’re expensive.\n",
    "\n",
    "So grouping them into \"other\" actually improves model robustness, especially for regression."
   ]
  },
  {
   "cell_type": "code",
   "execution_count": 49,
   "id": "95b49819",
   "metadata": {
    "scrolled": true
   },
   "outputs": [
    {
     "data": {
      "text/plain": [
       "55"
      ]
     },
     "execution_count": 49,
     "metadata": {},
     "output_type": "execute_result"
    }
   ],
   "source": [
    "house['location_reduced'].nunique()"
   ]
  },
  {
   "cell_type": "code",
   "execution_count": 25,
   "id": "bbb47988",
   "metadata": {
    "scrolled": true
   },
   "outputs": [
    {
     "data": {
      "text/plain": [
       "availability\n",
       "19-Jan    367.552051\n",
       "20-May    323.500000\n",
       "20-Jul    297.600000\n",
       "15-Oct    280.500000\n",
       "20-Apr    264.737500\n",
       "             ...    \n",
       "21-Oct     48.000000\n",
       "14-Nov     43.710000\n",
       "14-Jul     43.710000\n",
       "19-Nov     42.797143\n",
       "16-Nov     39.000000\n",
       "Name: price, Length: 80, dtype: float64"
      ]
     },
     "execution_count": 25,
     "metadata": {},
     "output_type": "execute_result"
    }
   ],
   "source": [
    "house.groupby('availability')['price'].mean().sort_values(ascending=False)"
   ]
  },
  {
   "cell_type": "markdown",
   "id": "3a1e1640",
   "metadata": {},
   "source": [
    "### Lets work on availability\n",
    "- Keeping only \"Ready To Move\" as `1` vs \"Future Date\" as `0` 2 categories \n",
    "(these numerical value will help analyze better)"
   ]
  },
  {
   "cell_type": "code",
   "execution_count": 27,
   "id": "9295c8f2",
   "metadata": {
    "scrolled": true
   },
   "outputs": [],
   "source": [
    "house['availability_encoded'] = house['availability'].apply(lambda x: 1 if x == 'Ready To Move' or x=='Immediate Possession' else 0)"
   ]
  },
  {
   "cell_type": "code",
   "execution_count": 30,
   "id": "878c215e",
   "metadata": {
    "scrolled": true
   },
   "outputs": [
    {
     "data": {
      "text/plain": [
       "9846     1\n",
       "8398     1\n",
       "3912     1\n",
       "3549     1\n",
       "2214     0\n",
       "5449     1\n",
       "13045    1\n",
       "4078     0\n",
       "1537     1\n",
       "10142    1\n",
       "Name: availability_encoded, dtype: int64"
      ]
     },
     "execution_count": 30,
     "metadata": {},
     "output_type": "execute_result"
    }
   ],
   "source": [
    "house['availability_encoded'].sample(10)"
   ]
  },
  {
   "cell_type": "code",
   "execution_count": 26,
   "id": "88f54d21",
   "metadata": {
    "scrolled": true
   },
   "outputs": [
    {
     "data": {
      "text/plain": [
       "society\n",
       "Kierser    2700.0\n",
       "Epllan     1915.0\n",
       "Adion A    1800.0\n",
       "Phaku K    1500.0\n",
       "Prood G    1250.0\n",
       "LeeyaCa    1063.0\n",
       "Prian E    1025.0\n",
       "Niateki    1015.0\n",
       "HMeuran     988.0\n",
       "Masta A     986.0\n",
       "Name: price, dtype: float64"
      ]
     },
     "execution_count": 26,
     "metadata": {},
     "output_type": "execute_result"
    }
   ],
   "source": [
    "house.groupby('society')['price'].mean().sort_values(ascending=False).head(10)"
   ]
  },
  {
   "cell_type": "code",
   "execution_count": 39,
   "id": "94863eca",
   "metadata": {
    "scrolled": true
   },
   "outputs": [
    {
     "data": {
      "text/plain": [
       "5469"
      ]
     },
     "execution_count": 39,
     "metadata": {},
     "output_type": "execute_result"
    }
   ],
   "source": [
    "house['society'].isnull().sum()"
   ]
  },
  {
   "cell_type": "markdown",
   "id": "44827c95",
   "metadata": {},
   "source": [
    "### Society:\n",
    "- society has 5469 missing values.\n",
    "- Too many unique names (like Kierser, EpIlan, etc.)\n",
    "- It might not generalize well in modeling."
   ]
  },
  {
   "cell_type": "code",
   "execution_count": 50,
   "id": "5a60fa8c",
   "metadata": {},
   "outputs": [
    {
     "name": "stdout",
     "output_type": "stream",
     "text": [
      "<class 'pandas.core.frame.DataFrame'>\n",
      "Index: 13197 entries, 0 to 13319\n",
      "Data columns (total 14 columns):\n",
      " #   Column                Non-Null Count  Dtype  \n",
      "---  ------                --------------  -----  \n",
      " 0   area_type             13197 non-null  object \n",
      " 1   availability          13197 non-null  object \n",
      " 2   location              13197 non-null  object \n",
      " 3   size                  13197 non-null  object \n",
      " 4   society               7728 non-null   object \n",
      " 5   total_sqft            13197 non-null  object \n",
      " 6   bath                  13197 non-null  float64\n",
      " 7   balcony               13197 non-null  float64\n",
      " 8   price                 13197 non-null  float64\n",
      " 9   bhk                   13197 non-null  float64\n",
      " 10  total_sqft_cleaned    13197 non-null  float64\n",
      " 11  price_per_sqft        13197 non-null  float64\n",
      " 12  availability_encoded  13197 non-null  int64  \n",
      " 13  location_reduced      13197 non-null  object \n",
      "dtypes: float64(6), int64(1), object(7)\n",
      "memory usage: 1.5+ MB\n"
     ]
    }
   ],
   "source": [
    "house.info()"
   ]
  },
  {
   "cell_type": "code",
   "execution_count": 51,
   "id": "a6a073a7",
   "metadata": {},
   "outputs": [
    {
     "data": {
      "image/png": "[encoded data removed]",
      "text/plain": [
       "<Figure size 640x480 with 1 Axes>"
      ]
     },
     "metadata": {},
     "output_type": "display_data"
    }
   ],
   "source": [
    "sns.boxplot(data=house, x='availability_encoded', y='price')\n",
    "plt.xticks([0, 1], ['Not Ready', 'Ready To Move'])\n",
    "plt.title('Availability vs Price')\n",
    "plt.ylabel('Price (Lakh)')\n",
    "plt.xlabel('Availability')\n",
    "plt.show()"
   ]
  },
  {
   "cell_type": "markdown",
   "id": "bd357581",
   "metadata": {},
   "source": [
    "## Insight:\n",
    "- Availability status has minimal impact on price.\n",
    "- Buyers may not pay significantly more for “Ready to Move” properties.\n",
    "- Could be a weak predictor for regression."
   ]
  },
  {
   "cell_type": "code",
   "execution_count": 53,
   "id": "8e9cb5f5",
   "metadata": {},
   "outputs": [
    {
     "data": {
      "image/png": "[encoded data removed]",
      "text/plain": [
       "<Figure size 1600x600 with 1 Axes>"
      ]
     },
     "metadata": {},
     "output_type": "display_data"
    }
   ],
   "source": [
    "plt.figure(figsize=(16, 6))\n",
    "location_avg_price = house.groupby('location_reduced')['price'].mean().sort_values(ascending=False)\n",
    "sns.barplot(x=location_avg_price.index, y=location_avg_price.values)\n",
    "plt.xticks(rotation=90)\n",
    "plt.title('Average Price per Location')\n",
    "plt.ylabel('Price (Lakh)')\n",
    "plt.xlabel('Location')\n",
    "plt.show()"
   ]
  },
  {
   "cell_type": "markdown",
   "id": "bc626547",
   "metadata": {},
   "source": [
    "----\n",
    "## Final Set of Features for Regression\n",
    "\n",
    "| Feature               | Description                                 | Type        | Why It's Included                               |\n",
    "|------------------------|---------------------------------------------|-------------|--------------------------------------------------|\n",
    "| `total_sqft_cleaned`   | Cleaned total area in sqft                  | Numerical   | Strong correlation with price (0.57)             |\n",
    "| `bath`                 | Number of bathrooms                         | Numerical   | Good correlation (0.46), closely tied to price   |\n",
    "| `bhk`                  | Number of bedrooms                          | Numerical   | Moderate correlation (0.40), useful              |\n",
    "| `availability_encoded` | Ready to move or not (1 = Yes, 0 = No)      | Binary      | Weak impact but retained for testing             |\n",
    "| `location_reduced_*`   | Location encoded using one-hot              | Categorical | Location is one of the most influential factors  |\n",
    "\n",
    "### Optional Features (Can Experiment with):\n",
    "\n",
    "| Feature           | Description                        | Type      | Notes                                         |\n",
    "|-------------------|------------------------------------|-----------|-----------------------------------------------|\n",
    "| `balcony`         | Number of balconies                | Numerical | Weak correlation, may or may not help         |\n",
    "| `price_per_sqft`  | Price per square foot (in ₹)       | Numerical | Low correlation, may introduce extra noise    |\n",
    "\n",
    "---\n",
    "*We'll use them all initially and later evaluate which combination gives the best model performance.*"
   ]
  },
  {
   "cell_type": "code",
   "execution_count": 55,
   "id": "c676899e",
   "metadata": {},
   "outputs": [],
   "source": [
    "final_features = ['total_sqft_cleaned', 'bath', 'bhk', 'availability_encoded',\n",
    "                  'balcony', 'price_per_sqft', 'location_reduced']"
   ]
  },
  {
   "cell_type": "code",
   "execution_count": 58,
   "id": "72d5e493",
   "metadata": {},
   "outputs": [],
   "source": [
    "final_df = house[final_features + ['price']].dropna()"
   ]
  },
  {
   "cell_type": "code",
   "execution_count": 59,
   "id": "21e90dc1",
   "metadata": {},
   "outputs": [
    {
     "data": {
      "text/html": [
       "<div>\n",
       "<style scoped>\n",
       "    .dataframe tbody tr th:only-of-type {\n",
       "        vertical-align: middle;\n",
       "    }\n",
       "\n",
       "    .dataframe tbody tr th {\n",
       "        vertical-align: top;\n",
       "    }\n",
       "\n",
       "    .dataframe thead th {\n",
       "        text-align: right;\n",
       "    }\n",
       "</style>\n",
       "<table border=\"1\" class=\"dataframe\">\n",
       "  <thead>\n",
       "    <tr style=\"text-align: right;\">\n",
       "      <th></th>\n",
       "      <th>total_sqft_cleaned</th>\n",
       "      <th>bath</th>\n",
       "      <th>bhk</th>\n",
       "      <th>availability_encoded</th>\n",
       "      <th>balcony</th>\n",
       "      <th>price_per_sqft</th>\n",
       "      <th>location_reduced</th>\n",
       "      <th>price</th>\n",
       "    </tr>\n",
       "  </thead>\n",
       "  <tbody>\n",
       "    <tr>\n",
       "      <th>0</th>\n",
       "      <td>1056.0</td>\n",
       "      <td>2.0</td>\n",
       "      <td>2.0</td>\n",
       "      <td>0</td>\n",
       "      <td>1.0</td>\n",
       "      <td>3699.810606</td>\n",
       "      <td>Electronic City Phase II</td>\n",
       "      <td>39.07</td>\n",
       "    </tr>\n",
       "    <tr>\n",
       "      <th>1</th>\n",
       "      <td>2600.0</td>\n",
       "      <td>5.0</td>\n",
       "      <td>4.0</td>\n",
       "      <td>1</td>\n",
       "      <td>3.0</td>\n",
       "      <td>4615.384615</td>\n",
       "      <td>other</td>\n",
       "      <td>120.00</td>\n",
       "    </tr>\n",
       "    <tr>\n",
       "      <th>2</th>\n",
       "      <td>1440.0</td>\n",
       "      <td>2.0</td>\n",
       "      <td>3.0</td>\n",
       "      <td>1</td>\n",
       "      <td>3.0</td>\n",
       "      <td>4305.555556</td>\n",
       "      <td>Uttarahalli</td>\n",
       "      <td>62.00</td>\n",
       "    </tr>\n",
       "    <tr>\n",
       "      <th>3</th>\n",
       "      <td>1521.0</td>\n",
       "      <td>3.0</td>\n",
       "      <td>3.0</td>\n",
       "      <td>1</td>\n",
       "      <td>1.0</td>\n",
       "      <td>6245.890861</td>\n",
       "      <td>other</td>\n",
       "      <td>95.00</td>\n",
       "    </tr>\n",
       "    <tr>\n",
       "      <th>4</th>\n",
       "      <td>1200.0</td>\n",
       "      <td>2.0</td>\n",
       "      <td>2.0</td>\n",
       "      <td>1</td>\n",
       "      <td>1.0</td>\n",
       "      <td>4250.000000</td>\n",
       "      <td>Kothanur</td>\n",
       "      <td>51.00</td>\n",
       "    </tr>\n",
       "    <tr>\n",
       "      <th>...</th>\n",
       "      <td>...</td>\n",
       "      <td>...</td>\n",
       "      <td>...</td>\n",
       "      <td>...</td>\n",
       "      <td>...</td>\n",
       "      <td>...</td>\n",
       "      <td>...</td>\n",
       "      <td>...</td>\n",
       "    </tr>\n",
       "    <tr>\n",
       "      <th>13315</th>\n",
       "      <td>3453.0</td>\n",
       "      <td>4.0</td>\n",
       "      <td>5.0</td>\n",
       "      <td>1</td>\n",
       "      <td>0.0</td>\n",
       "      <td>6689.834926</td>\n",
       "      <td>Whitefield</td>\n",
       "      <td>231.00</td>\n",
       "    </tr>\n",
       "    <tr>\n",
       "      <th>13316</th>\n",
       "      <td>3600.0</td>\n",
       "      <td>5.0</td>\n",
       "      <td>4.0</td>\n",
       "      <td>1</td>\n",
       "      <td>2.0</td>\n",
       "      <td>11111.111111</td>\n",
       "      <td>other</td>\n",
       "      <td>400.00</td>\n",
       "    </tr>\n",
       "    <tr>\n",
       "      <th>13317</th>\n",
       "      <td>1141.0</td>\n",
       "      <td>2.0</td>\n",
       "      <td>2.0</td>\n",
       "      <td>1</td>\n",
       "      <td>1.0</td>\n",
       "      <td>5258.545136</td>\n",
       "      <td>Raja Rajeshwari Nagar</td>\n",
       "      <td>60.00</td>\n",
       "    </tr>\n",
       "    <tr>\n",
       "      <th>13318</th>\n",
       "      <td>4689.0</td>\n",
       "      <td>4.0</td>\n",
       "      <td>4.0</td>\n",
       "      <td>0</td>\n",
       "      <td>1.0</td>\n",
       "      <td>10407.336319</td>\n",
       "      <td>other</td>\n",
       "      <td>488.00</td>\n",
       "    </tr>\n",
       "    <tr>\n",
       "      <th>13319</th>\n",
       "      <td>550.0</td>\n",
       "      <td>1.0</td>\n",
       "      <td>1.0</td>\n",
       "      <td>1</td>\n",
       "      <td>1.0</td>\n",
       "      <td>3090.909091</td>\n",
       "      <td>other</td>\n",
       "      <td>17.00</td>\n",
       "    </tr>\n",
       "  </tbody>\n",
       "</table>\n",
       "<p>13197 rows × 8 columns</p>\n",
       "</div>"
      ],
      "text/plain": [
       "       total_sqft_cleaned  bath  bhk  availability_encoded  balcony  \\\n",
       "0                  1056.0   2.0  2.0                     0      1.0   \n",
       "1                  2600.0   5.0  4.0                     1      3.0   \n",
       "2                  1440.0   2.0  3.0                     1      3.0   \n",
       "3                  1521.0   3.0  3.0                     1      1.0   \n",
       "4                  1200.0   2.0  2.0                     1      1.0   \n",
       "...                   ...   ...  ...                   ...      ...   \n",
       "13315              3453.0   4.0  5.0                     1      0.0   \n",
       "13316              3600.0   5.0  4.0                     1      2.0   \n",
       "13317              1141.0   2.0  2.0                     1      1.0   \n",
       "13318              4689.0   4.0  4.0                     0      1.0   \n",
       "13319               550.0   1.0  1.0                     1      1.0   \n",
       "\n",
       "       price_per_sqft          location_reduced   price  \n",
       "0         3699.810606  Electronic City Phase II   39.07  \n",
       "1         4615.384615                     other  120.00  \n",
       "2         4305.555556               Uttarahalli   62.00  \n",
       "3         6245.890861                     other   95.00  \n",
       "4         4250.000000                  Kothanur   51.00  \n",
       "...               ...                       ...     ...  \n",
       "13315     6689.834926                Whitefield  231.00  \n",
       "13316    11111.111111                     other  400.00  \n",
       "13317     5258.545136     Raja Rajeshwari Nagar   60.00  \n",
       "13318    10407.336319                     other  488.00  \n",
       "13319     3090.909091                     other   17.00  \n",
       "\n",
       "[13197 rows x 8 columns]"
      ]
     },
     "execution_count": 59,
     "metadata": {},
     "output_type": "execute_result"
    }
   ],
   "source": [
    "final_df"
   ]
  },
  {
   "cell_type": "markdown",
   "id": "4260814a",
   "metadata": {},
   "source": [
    "### One-Hot Encoding of Categorical Feature `location_reduced` column"
   ]
  },
  {
   "cell_type": "code",
   "execution_count": 60,
   "id": "00491ebe",
   "metadata": {},
   "outputs": [
    {
     "name": "stdout",
     "output_type": "stream",
     "text": [
      "Final dataset shape: (13197, 61)\n"
     ]
    },
    {
     "data": {
      "text/html": [
       "<div>\n",
       "<style scoped>\n",
       "    .dataframe tbody tr th:only-of-type {\n",
       "        vertical-align: middle;\n",
       "    }\n",
       "\n",
       "    .dataframe tbody tr th {\n",
       "        vertical-align: top;\n",
       "    }\n",
       "\n",
       "    .dataframe thead th {\n",
       "        text-align: right;\n",
       "    }\n",
       "</style>\n",
       "<table border=\"1\" class=\"dataframe\">\n",
       "  <thead>\n",
       "    <tr style=\"text-align: right;\">\n",
       "      <th></th>\n",
       "      <th>total_sqft_cleaned</th>\n",
       "      <th>bath</th>\n",
       "      <th>bhk</th>\n",
       "      <th>availability_encoded</th>\n",
       "      <th>balcony</th>\n",
       "      <th>price_per_sqft</th>\n",
       "      <th>price</th>\n",
       "      <th>location_reduced_8th Phase JP Nagar</th>\n",
       "      <th>location_reduced_Akshaya Nagar</th>\n",
       "      <th>location_reduced_Banashankari</th>\n",
       "      <th>...</th>\n",
       "      <th>location_reduced_Sarjapur  Road</th>\n",
       "      <th>location_reduced_TC Palaya</th>\n",
       "      <th>location_reduced_Thanisandra</th>\n",
       "      <th>location_reduced_Thigalarapalya</th>\n",
       "      <th>location_reduced_Uttarahalli</th>\n",
       "      <th>location_reduced_Varthur</th>\n",
       "      <th>location_reduced_Whitefield</th>\n",
       "      <th>location_reduced_Yelahanka</th>\n",
       "      <th>location_reduced_Yeshwanthpur</th>\n",
       "      <th>location_reduced_other</th>\n",
       "    </tr>\n",
       "  </thead>\n",
       "  <tbody>\n",
       "    <tr>\n",
       "      <th>0</th>\n",
       "      <td>1056.0</td>\n",
       "      <td>2.0</td>\n",
       "      <td>2.0</td>\n",
       "      <td>0</td>\n",
       "      <td>1.0</td>\n",
       "      <td>3699.810606</td>\n",
       "      <td>39.07</td>\n",
       "      <td>False</td>\n",
       "      <td>False</td>\n",
       "      <td>False</td>\n",
       "      <td>...</td>\n",
       "      <td>False</td>\n",
       "      <td>False</td>\n",
       "      <td>False</td>\n",
       "      <td>False</td>\n",
       "      <td>False</td>\n",
       "      <td>False</td>\n",
       "      <td>False</td>\n",
       "      <td>False</td>\n",
       "      <td>False</td>\n",
       "      <td>False</td>\n",
       "    </tr>\n",
       "    <tr>\n",
       "      <th>1</th>\n",
       "      <td>2600.0</td>\n",
       "      <td>5.0</td>\n",
       "      <td>4.0</td>\n",
       "      <td>1</td>\n",
       "      <td>3.0</td>\n",
       "      <td>4615.384615</td>\n",
       "      <td>120.00</td>\n",
       "      <td>False</td>\n",
       "      <td>False</td>\n",
       "      <td>False</td>\n",
       "      <td>...</td>\n",
       "      <td>False</td>\n",
       "      <td>False</td>\n",
       "      <td>False</td>\n",
       "      <td>False</td>\n",
       "      <td>False</td>\n",
       "      <td>False</td>\n",
       "      <td>False</td>\n",
       "      <td>False</td>\n",
       "      <td>False</td>\n",
       "      <td>True</td>\n",
       "    </tr>\n",
       "    <tr>\n",
       "      <th>2</th>\n",
       "      <td>1440.0</td>\n",
       "      <td>2.0</td>\n",
       "      <td>3.0</td>\n",
       "      <td>1</td>\n",
       "      <td>3.0</td>\n",
       "      <td>4305.555556</td>\n",
       "      <td>62.00</td>\n",
       "      <td>False</td>\n",
       "      <td>False</td>\n",
       "      <td>False</td>\n",
       "      <td>...</td>\n",
       "      <td>False</td>\n",
       "      <td>False</td>\n",
       "      <td>False</td>\n",
       "      <td>False</td>\n",
       "      <td>True</td>\n",
       "      <td>False</td>\n",
       "      <td>False</td>\n",
       "      <td>False</td>\n",
       "      <td>False</td>\n",
       "      <td>False</td>\n",
       "    </tr>\n",
       "    <tr>\n",
       "      <th>3</th>\n",
       "      <td>1521.0</td>\n",
       "      <td>3.0</td>\n",
       "      <td>3.0</td>\n",
       "      <td>1</td>\n",
       "      <td>1.0</td>\n",
       "      <td>6245.890861</td>\n",
       "      <td>95.00</td>\n",
       "      <td>False</td>\n",
       "      <td>False</td>\n",
       "      <td>False</td>\n",
       "      <td>...</td>\n",
       "      <td>False</td>\n",
       "      <td>False</td>\n",
       "      <td>False</td>\n",
       "      <td>False</td>\n",
       "      <td>False</td>\n",
       "      <td>False</td>\n",
       "      <td>False</td>\n",
       "      <td>False</td>\n",
       "      <td>False</td>\n",
       "      <td>True</td>\n",
       "    </tr>\n",
       "    <tr>\n",
       "      <th>4</th>\n",
       "      <td>1200.0</td>\n",
       "      <td>2.0</td>\n",
       "      <td>2.0</td>\n",
       "      <td>1</td>\n",
       "      <td>1.0</td>\n",
       "      <td>4250.000000</td>\n",
       "      <td>51.00</td>\n",
       "      <td>False</td>\n",
       "      <td>False</td>\n",
       "      <td>False</td>\n",
       "      <td>...</td>\n",
       "      <td>False</td>\n",
       "      <td>False</td>\n",
       "      <td>False</td>\n",
       "      <td>False</td>\n",
       "      <td>False</td>\n",
       "      <td>False</td>\n",
       "      <td>False</td>\n",
       "      <td>False</td>\n",
       "      <td>False</td>\n",
       "      <td>False</td>\n",
       "    </tr>\n",
       "  </tbody>\n",
       "</table>\n",
       "<p>5 rows × 61 columns</p>\n",
       "</div>"
      ],
      "text/plain": [
       "   total_sqft_cleaned  bath  bhk  availability_encoded  balcony  \\\n",
       "0              1056.0   2.0  2.0                     0      1.0   \n",
       "1              2600.0   5.0  4.0                     1      3.0   \n",
       "2              1440.0   2.0  3.0                     1      3.0   \n",
       "3              1521.0   3.0  3.0                     1      1.0   \n",
       "4              1200.0   2.0  2.0                     1      1.0   \n",
       "\n",
       "   price_per_sqft   price  location_reduced_8th Phase JP Nagar  \\\n",
       "0     3699.810606   39.07                                False   \n",
       "1     4615.384615  120.00                                False   \n",
       "2     4305.555556   62.00                                False   \n",
       "3     6245.890861   95.00                                False   \n",
       "4     4250.000000   51.00                                False   \n",
       "\n",
       "   location_reduced_Akshaya Nagar  location_reduced_Banashankari  ...  \\\n",
       "0                           False                          False  ...   \n",
       "1                           False                          False  ...   \n",
       "2                           False                          False  ...   \n",
       "3                           False                          False  ...   \n",
       "4                           False                          False  ...   \n",
       "\n",
       "   location_reduced_Sarjapur  Road  location_reduced_TC Palaya  \\\n",
       "0                            False                       False   \n",
       "1                            False                       False   \n",
       "2                            False                       False   \n",
       "3                            False                       False   \n",
       "4                            False                       False   \n",
       "\n",
       "   location_reduced_Thanisandra  location_reduced_Thigalarapalya  \\\n",
       "0                         False                            False   \n",
       "1                         False                            False   \n",
       "2                         False                            False   \n",
       "3                         False                            False   \n",
       "4                         False                            False   \n",
       "\n",
       "   location_reduced_Uttarahalli  location_reduced_Varthur  \\\n",
       "0                         False                     False   \n",
       "1                         False                     False   \n",
       "2                          True                     False   \n",
       "3                         False                     False   \n",
       "4                         False                     False   \n",
       "\n",
       "   location_reduced_Whitefield  location_reduced_Yelahanka  \\\n",
       "0                        False                       False   \n",
       "1                        False                       False   \n",
       "2                        False                       False   \n",
       "3                        False                       False   \n",
       "4                        False                       False   \n",
       "\n",
       "   location_reduced_Yeshwanthpur  location_reduced_other  \n",
       "0                          False                   False  \n",
       "1                          False                    True  \n",
       "2                          False                   False  \n",
       "3                          False                    True  \n",
       "4                          False                   False  \n",
       "\n",
       "[5 rows x 61 columns]"
      ]
     },
     "execution_count": 60,
     "metadata": {},
     "output_type": "execute_result"
    }
   ],
   "source": [
    "houseF = final_df.copy()\n",
    "\n",
    "# One-hot encode location_reduced\n",
    "houseF = pd.get_dummies(houseF, columns=['location_reduced'], drop_first=True)\n",
    "\n",
    "# Confirm shape and columns\n",
    "print(\"Final dataset shape:\", houseF.shape)\n",
    "houseF.head()"
   ]
  },
  {
   "cell_type": "code",
   "execution_count": 61,
   "id": "ed1d68e8",
   "metadata": {},
   "outputs": [],
   "source": [
    "final_df.to_csv(\"final_df.csv\", index=False)\n",
    "houseF.to_csv(\"houseF_encoded.csv\", index=False)"
   ]
  },
  {
   "cell_type": "markdown",
   "id": "7e4549d0",
   "metadata": {},
   "source": [
    "## Split Dataset into Features (X) and Target (y)\n",
    "\n",
    "We'll now split the final dataset:\n",
    "- `X` (input features): all columns except `price`\n",
    "- `y` (target): the `price` column\n",
    "\n",
    "Then, we'll divide them into training and testing sets using an 80-20 split."
   ]
  },
  {
   "cell_type": "code",
   "execution_count": 74,
   "id": "e89b2339",
   "metadata": {},
   "outputs": [],
   "source": [
    "X = houseF.drop('price', axis=1)\n",
    "y = houseF['price']"
   ]
  },
  {
   "cell_type": "code",
   "execution_count": 75,
   "id": "428ae63f",
   "metadata": {},
   "outputs": [],
   "source": [
    "from sklearn.model_selection import train_test_split"
   ]
  },
  {
   "cell_type": "code",
   "execution_count": 76,
   "id": "ec27c275",
   "metadata": {},
   "outputs": [
    {
     "name": "stdout",
     "output_type": "stream",
     "text": [
      "X_train shape: (10557, 60)\n",
      "X_test shape: (2640, 60)\n"
     ]
    }
   ],
   "source": [
    "# Train-Test Split\n",
    "X_train, X_test, y_train, y_test = train_test_split(X, y, test_size=0.2, random_state=42)\n",
    "\n",
    "print(\"X_train shape:\", X_train.shape)\n",
    "print(\"X_test shape:\", X_test.shape)"
   ]
  },
  {
   "cell_type": "markdown",
   "id": "e9b12743",
   "metadata": {},
   "source": [
    "## Training Linear Regression Model"
   ]
  },
  {
   "cell_type": "code",
   "execution_count": 77,
   "id": "85979b97",
   "metadata": {},
   "outputs": [],
   "source": [
    "from sklearn.linear_model import LinearRegression\n",
    "\n",
    "lr_model = LinearRegression()\n",
    "lr_model.fit(X_train, y_train)\n",
    "\n",
    "y_pred = lr_model.predict(X_test)"
   ]
  },
  {
   "cell_type": "code",
   "execution_count": 78,
   "id": "41b4e8d2",
   "metadata": {},
   "outputs": [
    {
     "data": {
      "text/plain": [
       "array([ 60.45262688, 124.37075197, 103.37361962, ...,  -3.37149821,\n",
       "       172.24458336,  62.82354634])"
      ]
     },
     "execution_count": 78,
     "metadata": {},
     "output_type": "execute_result"
    }
   ],
   "source": [
    "y_pred"
   ]
  },
  {
   "cell_type": "code",
   "execution_count": 79,
   "id": "a4f16f75",
   "metadata": {},
   "outputs": [
    {
     "name": "stdout",
     "output_type": "stream",
     "text": [
      "Model Performance Metrics:\n",
      "R² Score : 0.4447\n",
      "MAE      : 45.29 Lakhs\n",
      "RMSE     : 115.35 Lakhs\n"
     ]
    }
   ],
   "source": [
    "from sklearn.metrics import mean_absolute_error, mean_squared_error, r2_score\n",
    "import numpy as np\n",
    "\n",
    "\n",
    "mae = mean_absolute_error(y_test, y_pred)\n",
    "rmse = np.sqrt(mean_squared_error(y_test, y_pred))\n",
    "r2 = r2_score(y_test, y_pred)\n",
    "\n",
    "print(\"Model Performance Metrics:\")\n",
    "print(f\"R² Score : {r2:.4f}\")\n",
    "print(f\"MAE      : {mae:.2f} Lakhs\")\n",
    "print(f\"RMSE     : {rmse:.2f} Lakhs\")"
   ]
  },
  {
   "cell_type": "markdown",
   "id": "877ce7df",
   "metadata": {},
   "source": [
    "## Trying without experimental features"
   ]
  },
  {
   "cell_type": "code",
   "execution_count": 69,
   "id": "69497fc1",
   "metadata": {},
   "outputs": [],
   "source": [
    "# Drop weak features\n",
    "houseF_cleaned = houseF.drop(columns=['balcony', 'price_per_sqft', 'availability_encoded'])"
   ]
  },
  {
   "cell_type": "code",
   "execution_count": 70,
   "id": "b37f9705",
   "metadata": {},
   "outputs": [],
   "source": [
    "X = houseF_cleaned.drop(columns=['price'])\n",
    "y = houseF_cleaned['price']"
   ]
  },
  {
   "cell_type": "code",
   "execution_count": 71,
   "id": "98baa72f",
   "metadata": {},
   "outputs": [],
   "source": [
    "from sklearn.model_selection import train_test_split\n",
    "\n",
    "X_train, X_test, y_train, y_test = train_test_split(\n",
    "    X, y, test_size=0.2, random_state=42)\n"
   ]
  },
  {
   "cell_type": "code",
   "execution_count": 72,
   "id": "54872bfc",
   "metadata": {},
   "outputs": [],
   "source": [
    "from sklearn.linear_model import LinearRegression\n",
    "\n",
    "model_cleaned = LinearRegression()\n",
    "model_cleaned.fit(X_train, y_train)\n",
    "y_pred_cleaned = model_cleaned.predict(X_test)\n"
   ]
  },
  {
   "cell_type": "code",
   "execution_count": 73,
   "id": "4cb7a8f0",
   "metadata": {},
   "outputs": [
    {
     "name": "stdout",
     "output_type": "stream",
     "text": [
      "Model Performance (Cleaned Features):\n",
      "R² Score : 0.4439\n",
      "MAE      : 45.41 Lakhs\n",
      "RMSE     : 115.44 Lakhs\n"
     ]
    }
   ],
   "source": [
    "from sklearn.metrics import mean_absolute_error, mean_squared_error, r2_score\n",
    "import numpy as np\n",
    "\n",
    "mae = mean_absolute_error(y_test, y_pred_cleaned)\n",
    "rmse = np.sqrt(mean_squared_error(y_test, y_pred_cleaned))\n",
    "r2 = r2_score(y_test, y_pred_cleaned)\n",
    "\n",
    "print(\"Model Performance (Cleaned Features):\")\n",
    "print(f\"R² Score : {r2:.4f}\")\n",
    "print(f\"MAE      : {mae:.2f} Lakhs\")\n",
    "print(f\"RMSE     : {rmse:.2f} Lakhs\")\n"
   ]
  },
  {
   "cell_type": "markdown",
   "id": "a40fe5a8",
   "metadata": {},
   "source": [
    "## Interpretation:\n",
    "\n",
    "- The performance is almost identical to the model using all features.\n",
    "\n",
    "- This means the removed features (balcony, price_per_sqft, availability_encoded) were not helping — and possibly even adding noise."
   ]
  },
  {
   "cell_type": "code",
   "execution_count": 83,
   "id": "af15b1c4",
   "metadata": {},
   "outputs": [
    {
     "data": {
      "text/plain": [
       "0.444724589363528"
      ]
     },
     "execution_count": 83,
     "metadata": {},
     "output_type": "execute_result"
    }
   ],
   "source": [
    "lr_model.score(X_test, y_test)"
   ]
  },
  {
   "cell_type": "code",
   "execution_count": 80,
   "id": "3d411835",
   "metadata": {},
   "outputs": [],
   "source": [
    "import pickle\n",
    "\n",
    "# Save the model\n",
    "with open(\"best_house_price_model.pkl\", \"wb\") as f:\n",
    "    pickle.dump(lr_model, f)\n",
    "\n",
    "# Save the feature column names\n",
    "with open(\"model_features.pkl\", \"wb\") as f:\n",
    "    pickle.dump(X_train.columns.tolist(), f)\n"
   ]
  },
  {
   "cell_type": "code",
   "execution_count": null,
   "id": "12fa6cc3",
   "metadata": {},
   "outputs": [],
   "source": []
  }
 ],
 "metadata": {
  "kernelspec": {
   "display_name": "base",
   "language": "python",
   "name": "python3"
  },
  "language_info": {
   "codemirror_mode": {
    "name": "ipython",
    "version": 3
   },
   "file_extension": ".py",
   "mimetype": "text/x-python",
   "name": "python",
   "nbconvert_exporter": "python",
   "pygments_lexer": "ipython3",
   "version": "3.11.5"
  }
 },
 "nbformat": 4,
 "nbformat_minor": 5
}
